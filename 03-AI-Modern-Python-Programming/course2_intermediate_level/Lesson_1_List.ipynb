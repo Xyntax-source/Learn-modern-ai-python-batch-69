{
  "nbformat": 4,
  "nbformat_minor": 0,
  "metadata": {
    "colab": {
      "provenance": []
    },
    "kernelspec": {
      "name": "python3",
      "display_name": "Python 3"
    },
    "language_info": {
      "name": "python"
    }
  },
  "cells": [
    {
      "cell_type": "markdown",
      "source": [
        "# What is List?"
      ],
      "metadata": {
        "id": "My4w3iNt2UY6"
      }
    },
    {
      "cell_type": "markdown",
      "source": [
        "## Problem"
      ],
      "metadata": {
        "id": "t2uUP-Ph30js"
      }
    },
    {
      "cell_type": "markdown",
      "source": [
        "If you want to store multiple items, you would need to create a separate variable for each one.\n",
        "\n",
        "```\n",
        "student1 = \"Ahmad\"\n",
        "student2 = \"Ali\"\n",
        "student3 = \"Kashif\"\n",
        "```\n",
        "\n",
        "This approach works fine if you have just a few items. But what if you have 10, 100, or even more? It quickly becomes unmanageable.\n",
        "\n",
        "If you want to add or remove an item, you have to manually shift the data around or create new variables.\n",
        "\n",
        "```\n",
        "student4 = \"Usman\"\n",
        "```\n",
        "\n",
        "Accessing an item requires you to remember the exact variable name associated with it.\n",
        "\n",
        "```\n",
        "print(student1)\n",
        "print(student2)\n",
        "```"
      ],
      "metadata": {
        "id": "fgDdErUn2vzI"
      }
    },
    {
      "cell_type": "markdown",
      "source": [
        "## Solution"
      ],
      "metadata": {
        "id": "hS7-o45gU72v"
      }
    },
    {
      "cell_type": "markdown",
      "source": [
        "### List\n",
        "A list in Python is like a container that can hold multiple items, one after another. Imagine you have a shopping list where you write down everything you need to buy. A Python list is very similar, but instead of just groceries, it can hold all kinds of things like numbers, words, or even other lists!\n",
        "\n",
        "### Store Multiple Items Together:\n",
        "\n",
        "A list allows you to keep multiple items in one place. For example, if you want to keep track of all your students' names, you can store them in a list.\n"
      ],
      "metadata": {
        "id": "Wt_hhuVaVOPN"
      }
    },
    {
      "cell_type": "code",
      "source": [
        "students : list = [\"Ahmad\", \"Ali\", \"Kashif\"]"
      ],
      "metadata": {
        "id": "QFKWuvaLSsaB"
      },
      "execution_count": null,
      "outputs": []
    },
    {
      "cell_type": "markdown",
      "source": [
        "### Access Items by Position:\n",
        "\n",
        "Lists keep items in the order you put them in. You can access any item by telling Python where it is in the list (starting from 0)."
      ],
      "metadata": {
        "id": "ZaZN7zpjgnOq"
      }
    },
    {
      "cell_type": "code",
      "source": [
        "print(students[0])\n",
        "print(students[1])"
      ],
      "metadata": {
        "id": "dCNcXveVgqbe"
      },
      "execution_count": null,
      "outputs": []
    },
    {
      "cell_type": "markdown",
      "source": [
        "### Change Items:\n",
        "\n",
        "You can easily change an item in the list if you need to update it."
      ],
      "metadata": {
        "id": "PgfUjz4lgxiK"
      }
    },
    {
      "cell_type": "code",
      "source": [
        "students[0]: list[str] = \"Saleem\""
      ],
      "metadata": {
        "id": "hXKyqi40gzHi"
      },
      "execution_count": null,
      "outputs": []
    },
    {
      "cell_type": "code",
      "source": [
        "print(students)"
      ],
      "metadata": {
        "id": "kmQDFuomhAaA"
      },
      "execution_count": null,
      "outputs": []
    },
    {
      "cell_type": "markdown",
      "source": [
        "## Array Methods"
      ],
      "metadata": {
        "id": "FhvgpqU0mmvW"
      }
    },
    {
      "cell_type": "code",
      "source": [
        "# [i for i in dir(students) if \"__\" not in i]\n",
        "dir(students)\n",
        "len(students) #Python uses __len__ to find out the length of the list.__len__ \"behind-the-scenes\" functions"
      ],
      "metadata": {
        "id": "EBSKHHrNit_8"
      },
      "execution_count": null,
      "outputs": []
    },
    {
      "cell_type": "markdown",
      "source": [
        "### Append a new student\n"
      ],
      "metadata": {
        "id": "CZVT5q0khJl1"
      }
    },
    {
      "cell_type": "code",
      "source": [
        "students.append(\"Usman\")\n",
        "print(students)"
      ],
      "metadata": {
        "id": "1_StCoUOhRKC"
      },
      "execution_count": null,
      "outputs": []
    },
    {
      "cell_type": "markdown",
      "source": [
        "### insert()"
      ],
      "metadata": {
        "id": "j2C-m5gR0Xv_"
      }
    },
    {
      "cell_type": "code",
      "source": [
        "students.insert(0,\"ahmad\")"
      ],
      "metadata": {
        "id": "e4VmTLIX0aPq"
      },
      "execution_count": null,
      "outputs": []
    },
    {
      "cell_type": "code",
      "source": [
        "print(students)"
      ],
      "metadata": {
        "id": "IxphqU6gzu71"
      },
      "execution_count": null,
      "outputs": []
    },
    {
      "cell_type": "code",
      "source": [
        "students.insert(3,\"Iqbal\")\n",
        "print(students)"
      ],
      "metadata": {
        "id": "N4tjNi9_z17y"
      },
      "execution_count": null,
      "outputs": []
    },
    {
      "cell_type": "markdown",
      "source": [
        "### Pop the last student"
      ],
      "metadata": {
        "id": "L4nI2MGqhV9q"
      }
    },
    {
      "cell_type": "code",
      "source": [
        "last_student:list[str] = students.pop()\n",
        "print(last_student)\n",
        "print(students)"
      ],
      "metadata": {
        "id": "mfNPoAf5hYTI"
      },
      "execution_count": null,
      "outputs": []
    },
    {
      "cell_type": "markdown",
      "source": [
        "### Remove a specific or custom student by name"
      ],
      "metadata": {
        "id": "HxambH-uhlZI"
      }
    },
    {
      "cell_type": "code",
      "source": [
        "students.remove(\"Ali\")\n",
        "print(students)"
      ],
      "metadata": {
        "id": "zMBCxFkihnn9"
      },
      "execution_count": null,
      "outputs": []
    },
    {
      "cell_type": "markdown",
      "source": [
        "### shallow copy vs deep copy"
      ],
      "metadata": {
        "id": "zLIHsobFkcia"
      }
    },
    {
      "cell_type": "code",
      "source": [
        "# shallow copy\n",
        "a : list[str] = ['a','b','c']\n",
        "b = a # shallow copy\n",
        "a.append('d')\n",
        "print(\"a: \",a)\n",
        "print(\"b: \",b)\n",
        "print(id(a), id(b))"
      ],
      "metadata": {
        "id": "0kLO63NdkhL7"
      },
      "execution_count": null,
      "outputs": []
    },
    {
      "cell_type": "code",
      "source": [
        "# deep copy\n",
        "a : list[str] = ['a','b','c']\n",
        "b = a.copy() # Deep copy\n",
        "a.append('d')\n",
        "print(\"a: \",a)\n",
        "print(\"b: \",b)\n",
        "c = a[:] # another way of Deep copy\n",
        "\n",
        "a.append('d')\n",
        "print(\"a: \", a)\n",
        "print(\"b: \", b)\n",
        "print(\"c: \", c)\n",
        "print(id(a), id(b), id(c))"
      ],
      "metadata": {
        "id": "txwdgB-FlHWf"
      },
      "execution_count": null,
      "outputs": []
    },
    {
      "cell_type": "code",
      "source": [
        "# create new list\n",
        "a : list[str] = ['a','b','c']\n",
        "# print(id(a))\n",
        "a = ['d','e','f']\n",
        "# print(id(a))\n",
        "print(a)"
      ],
      "metadata": {
        "id": "AB6N_UQNkSse"
      },
      "execution_count": null,
      "outputs": []
    },
    {
      "cell_type": "markdown",
      "source": [
        "### extend()\n",
        "Supply the array to be extended"
      ],
      "metadata": {
        "id": "ncS5vw54m9cz"
      }
    },
    {
      "cell_type": "code",
      "source": [
        "arr1: list[int] = [1,2,3]\n",
        "a : list[int] = [4,5,6]\n",
        "a.extend(a)\n",
        "print(a)"
      ],
      "metadata": {
        "id": "UA01xUuQnMIx"
      },
      "execution_count": null,
      "outputs": []
    },
    {
      "cell_type": "markdown",
      "source": [
        "### clear()"
      ],
      "metadata": {
        "id": "qbzJ8W7SnWzN"
      }
    },
    {
      "cell_type": "code",
      "source": [
        "a.clear()\n",
        "print(a)"
      ],
      "metadata": {
        "id": "jDER99DendSz"
      },
      "execution_count": null,
      "outputs": []
    },
    {
      "cell_type": "code",
      "source": [
        "# students = [\"Ahmad\", \"Ali\", \"Kashif\"]\n",
        "\n",
        "# # Using clear()\n",
        "# students.clear()\n",
        "# print(id(students))  # Same ID, list cleared in place\n",
        "\n",
        "# # Reassigning to empty list\n",
        "# students = [\"Ahmad\", \"Ali\", \"Kashif\"]\n",
        "# students= []\n",
        "# print(id(students))"
      ],
      "metadata": {
        "id": "igV19QkCAnSw"
      },
      "execution_count": null,
      "outputs": []
    },
    {
      "cell_type": "markdown",
      "source": [
        "### count(), index methods\n",
        "### list() method"
      ],
      "metadata": {
        "id": "ZaAciugjnsOU"
      }
    },
    {
      "cell_type": "code",
      "source": [
        "characters : list[str] = list(\"abcdefghijkalmnopqrstbuvwxyz\")\n",
        "characters.count('a')"
      ],
      "metadata": {
        "id": "bvvseidnnvFg"
      },
      "execution_count": null,
      "outputs": []
    },
    {
      "cell_type": "markdown",
      "source": [
        "### index()"
      ],
      "metadata": {
        "id": "Nut8kJ2kn0O4"
      }
    },
    {
      "cell_type": "code",
      "source": [
        "characters.index('a',2)"
      ],
      "metadata": {
        "id": "6motr1fiKm7N"
      },
      "execution_count": null,
      "outputs": []
    },
    {
      "cell_type": "markdown",
      "source": [
        "### sort() and reverse() methods\n",
        "Purpose: Sorts the elements in the list in-place in descending order. It modifies the list to be sorted based on values.\n",
        "\n",
        "Purpose: Reverses the order of the elements in the list in-place without sorting them. It simply flips the list from end to start."
      ],
      "metadata": {
        "id": "1-x8ijLboMGr"
      }
    },
    {
      "cell_type": "code",
      "source": [
        "characters.sort()\n",
        "print(characters)\n",
        "\n",
        "characters.sort(reverse=True)\n",
        "print(characters)\n",
        "\n",
        "characters.reverse()\n",
        "print(characters)"
      ],
      "metadata": {
        "id": "U7Ct5S3yoVLz"
      },
      "execution_count": null,
      "outputs": []
    },
    {
      "cell_type": "markdown",
      "source": [
        "## Slicing"
      ],
      "metadata": {
        "id": "QLmlV2dFxXY4"
      }
    },
    {
      "cell_type": "code",
      "source": [
        "characters : list[str] = list(\"ABCDEFGHIJKLMNOPQRSTUVWXYZ\")\n",
        "print(characters)"
      ],
      "metadata": {
        "id": "mlyy92R-xmf1"
      },
      "execution_count": null,
      "outputs": []
    },
    {
      "cell_type": "code",
      "source": [
        "#                          0    1    2                                                                                                                 25\n",
        "characters : list[str] = ['A', 'B', 'C', 'D', 'E', 'F', 'G', 'H', 'I', 'J', 'K', 'L', 'M', 'N', 'O', 'P', 'Q', 'R', 'S', 'T', 'U', 'V', 'W', 'X', 'Y', 'Z']\n",
        "#                         -26   -25  -24                                                                                                                         -1\n",
        "\n",
        "# defualt slicing go from left to right\n",
        "print(len(characters))\n",
        "print(characters[0:6]) # 0= include : index 2-1 = 1\n",
        "print(characters[:4]) # not pass any number = all\n",
        "print(characters[-26:-24])# 0= include : index -24-1 = -25\n",
        "print(characters[0:2:1]) # 0= include : index 2-1 = 1\n",
        "print(characters[0:2:])\n",
        "print(characters[0:7:2])\n"
      ],
      "metadata": {
        "id": "M8ZZJsF2x7Xn"
      },
      "execution_count": null,
      "outputs": []
    },
    {
      "cell_type": "code",
      "source": [
        "print(characters)\n",
        "print(characters[::])"
      ],
      "metadata": {
        "id": "7aUnHurryIdE"
      },
      "execution_count": null,
      "outputs": []
    },
    {
      "cell_type": "code",
      "source": [
        "characters : list[str] = ['A', 'B', 'C', 'D', 'E', 'F', 'G', 'H']\n",
        "                        #  1    2    3    4    5    6    7    8\n",
        "print(characters[::-1])\n",
        "print(characters[4:2:-1]) #E,D,C\n",
        "print(characters[4:7])"
      ],
      "metadata": {
        "id": "Ic_3SULQzf9c"
      },
      "execution_count": null,
      "outputs": []
    },
    {
      "cell_type": "code",
      "source": [
        "#                          0    1    2    3    4   5     6    7\n",
        "characters : list[str] = ['A', 'B', 'C', 'D', 'E', 'F', 'G', 'H']\n",
        "#                         -8    -7   -6  -5    -4   -3   -2   -1\n",
        "\n",
        "# iteration slicing ->\n",
        "# step -> positive\n",
        "# step <- negative\n",
        "print(characters[-2:-5:-1]) # ['G', 'F', 'E']\n",
        "print(characters[-5:-2]) # ['D', 'E', 'F']\n",
        "print(characters[::])\n",
        "print(characters[::-1])"
      ],
      "metadata": {
        "id": "iKZ5UFnZzppD"
      },
      "execution_count": null,
      "outputs": []
    },
    {
      "cell_type": "markdown",
      "source": [
        "## `in` and `is` operators"
      ],
      "metadata": {
        "id": "3sOWor23bgIp"
      }
    },
    {
      "cell_type": "markdown",
      "source": [
        "### `in` Operator\n",
        "The in operator is used to check membership."
      ],
      "metadata": {
        "id": "rLjZiamVb3bz"
      }
    },
    {
      "cell_type": "code",
      "source": [
        "# Example 1: Checking membership\n",
        "my_list = [1, 2, 3, 4, 5]\n",
        "print(3 in my_list)  # Output: True\n",
        "print(6 in my_list)  # Output: False"
      ],
      "metadata": {
        "id": "Ws3KPf0Zb8nz"
      },
      "execution_count": null,
      "outputs": []
    },
    {
      "cell_type": "markdown",
      "source": [
        "### `is` Operator\n",
        "The is operator checks identity, i.e., whether two variables point to the same object in memory"
      ],
      "metadata": {
        "id": "d34epecjcK1Z"
      }
    },
    {
      "cell_type": "code",
      "source": [
        "# Example 1: Checking identity\n",
        "a = [1, 2, 3]\n",
        "b = [1, 2, 3]\n",
        "c = a\n",
        "print(a is b)  # Output: False (different objects with the same value)\n",
        "print(a is c)  # Output: True (both variables point to the same object)\n",
        "print(\"a:\",id(a))\n",
        "print(\"b:\",id(b))\n",
        "print(\"c:\",id(c))\n",
        "\n",
        "\n",
        "# Example 2: Comparing primitive types\n",
        "x = 10\n",
        "y = 10\n",
        "print(x is y)  # Output: True (small integers are cached and point to the same object)\n"
      ],
      "metadata": {
        "id": "jdj10lNubtO4",
        "outputId": "96eea9a2-ad72-4310-cccf-f3c6510451ff",
        "colab": {
          "base_uri": "https://localhost:8080/"
        }
      },
      "execution_count": 1,
      "outputs": [
        {
          "output_type": "stream",
          "name": "stdout",
          "text": [
            "False\n",
            "True\n",
            "a: 137937474456320\n",
            "b: 137937474456064\n",
            "c: 137937474456320\n",
            "True\n"
          ]
        }
      ]
    },
    {
      "cell_type": "markdown",
      "source": [
        "## Extra"
      ],
      "metadata": {
        "id": "nbsWTzV5mv66"
      }
    },
    {
      "cell_type": "code",
      "source": [
        "print(help(print))"
      ],
      "metadata": {
        "id": "uanfR1Xjl-ur"
      },
      "execution_count": null,
      "outputs": []
    }
  ]
}