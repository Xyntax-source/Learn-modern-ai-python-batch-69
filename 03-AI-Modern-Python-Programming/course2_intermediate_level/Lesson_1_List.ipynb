{
  "cells": [
    {
      "cell_type": "markdown",
      "metadata": {
        "id": "My4w3iNt2UY6"
      },
      "source": [
        "# What is List?"
      ]
    },
    {
      "cell_type": "markdown",
      "metadata": {
        "id": "t2uUP-Ph30js"
      },
      "source": [
        "## Problem"
      ]
    },
    {
      "cell_type": "markdown",
      "metadata": {
        "id": "fgDdErUn2vzI"
      },
      "source": [
        "If you want to store multiple items, you would need to create a separate variable for each one.\n",
        "\n",
        "```\n",
        "student1 = \"Ahmad\"\n",
        "student2 = \"Ali\"\n",
        "student3 = \"Kashif\"\n",
        "```\n",
        "\n",
        "This approach works fine if you have just a few items. But what if you have 10, 100, or even more? It quickly becomes unmanageable.\n",
        "\n",
        "If you want to add or remove an item, you have to manually shift the data around or create new variables.\n",
        "\n",
        "```\n",
        "student4 = \"Usman\"\n",
        "```\n",
        "\n",
        "Accessing an item requires you to remember the exact variable name associated with it.\n",
        "\n",
        "```\n",
        "print(student1)\n",
        "print(student2)\n",
        "```"
      ]
    },
    {
      "cell_type": "markdown",
      "metadata": {
        "id": "hS7-o45gU72v"
      },
      "source": [
        "## Solution"
      ]
    },
    {
      "cell_type": "markdown",
      "metadata": {
        "id": "Wt_hhuVaVOPN"
      },
      "source": [
        "### List\n",
        "A list in Python is like a container that can hold multiple items, one after another. Imagine you have a shopping list where you write down everything you need to buy. A Python list is very similar, but instead of just groceries, it can hold all kinds of things like numbers, words, or even other lists!\n",
        "\n",
        "### Store Multiple Items Together:\n",
        "\n",
        "A list allows you to keep multiple items in one place. For example, if you want to keep track of all your students' names, you can store them in a list.\n"
      ]
    },
    {
      "cell_type": "code",
      "execution_count": null,
      "metadata": {
        "id": "QFKWuvaLSsaB"
      },
      "outputs": [],
      "source": [
        "students : list = [\"Ahmad\", \"Ali\", \"Kashif\"]"
      ]
    },
    {
      "cell_type": "markdown",
      "metadata": {
        "id": "ZaZN7zpjgnOq"
      },
      "source": [
        "### Access Items by Position:\n",
        "\n",
        "Lists keep items in the order you put them in. You can access any item by telling Python where it is in the list (starting from 0)."
      ]
    },
    {
      "cell_type": "code",
      "execution_count": null,
      "metadata": {
        "id": "dCNcXveVgqbe"
      },
      "outputs": [],
      "source": [
        "print(students[0])\n",
        "print(students[1])"
      ]
    },
    {
      "cell_type": "markdown",
      "metadata": {
        "id": "PgfUjz4lgxiK"
      },
      "source": [
        "### Change Items:\n",
        "\n",
        "You can easily change an item in the list if you need to update it."
      ]
    },
    {
      "cell_type": "code",
      "execution_count": null,
      "metadata": {
        "id": "hXKyqi40gzHi"
      },
      "outputs": [],
      "source": [
        "students[0]: list[str] = \"Saleem\""
      ]
    },
    {
      "cell_type": "code",
      "execution_count": null,
      "metadata": {
        "id": "kmQDFuomhAaA"
      },
      "outputs": [],
      "source": [
        "print(students)"
      ]
    },
    {
      "cell_type": "markdown",
      "metadata": {
        "id": "FhvgpqU0mmvW"
      },
      "source": [
        "## Array Methods"
      ]
    },
    {
      "cell_type": "code",
      "execution_count": null,
      "metadata": {
        "id": "EBSKHHrNit_8"
      },
      "outputs": [],
      "source": [
        "# [i for i in dir(students) if \"__\" not in i]\n",
        "dir(students)\n",
        "len(students) #Python uses __len__ to find out the length of the list.__len__ \"behind-the-scenes\" functions"
      ]
    },
    {
      "cell_type": "markdown",
      "metadata": {
        "id": "CZVT5q0khJl1"
      },
      "source": [
        "### Append a new student\n"
      ]
    },
    {
      "cell_type": "code",
      "execution_count": null,
      "metadata": {
        "id": "1_StCoUOhRKC"
      },
      "outputs": [],
      "source": [
        "students.append(\"Usman\")\n",
        "print(students)"
      ]
    },
    {
      "cell_type": "markdown",
      "metadata": {
        "id": "j2C-m5gR0Xv_"
      },
      "source": [
        "### insert()"
      ]
    },
    {
      "cell_type": "code",
      "execution_count": null,
      "metadata": {
        "id": "e4VmTLIX0aPq"
      },
      "outputs": [],
      "source": [
        "students.insert(0,\"ahmad\")"
      ]
    },
    {
      "cell_type": "code",
      "execution_count": null,
      "metadata": {
        "id": "IxphqU6gzu71"
      },
      "outputs": [],
      "source": [
        "print(students)"
      ]
    },
    {
      "cell_type": "code",
      "execution_count": null,
      "metadata": {
        "id": "N4tjNi9_z17y"
      },
      "outputs": [],
      "source": [
        "students.insert(3,\"Iqbal\")\n",
        "print(students)"
      ]
    },
    {
      "cell_type": "markdown",
      "metadata": {
        "id": "L4nI2MGqhV9q"
      },
      "source": [
        "### Pop the last student"
      ]
    },
    {
      "cell_type": "code",
      "execution_count": null,
      "metadata": {
        "id": "mfNPoAf5hYTI"
      },
      "outputs": [],
      "source": [
        "last_student:list[str] = students.pop()\n",
        "print(last_student)\n",
        "print(students)"
      ]
    },
    {
      "cell_type": "markdown",
      "metadata": {
        "id": "HxambH-uhlZI"
      },
      "source": [
        "### Remove a specific or custom student by name"
      ]
    },
    {
      "cell_type": "code",
      "execution_count": null,
      "metadata": {
        "id": "zMBCxFkihnn9"
      },
      "outputs": [],
      "source": [
        "students.remove(\"Ali\")\n",
        "print(students)"
      ]
    },
    {
      "cell_type": "markdown",
      "metadata": {
        "id": "zLIHsobFkcia"
      },
      "source": [
        "### shallow copy vs deep copy"
      ]
    },
    {
      "cell_type": "code",
      "execution_count": null,
      "metadata": {
        "id": "0kLO63NdkhL7"
      },
      "outputs": [],
      "source": [
        "# shallow copy\n",
        "a : list[str] = ['a','b','c']\n",
        "b = a # shallow copy\n",
        "a.append('d')\n",
        "print(\"a: \",a)\n",
        "print(\"b: \",b)\n",
        "print(id(a), id(b))"
      ]
    },
    {
      "cell_type": "code",
      "execution_count": null,
      "metadata": {
        "id": "txwdgB-FlHWf"
      },
      "outputs": [],
      "source": [
        "# deep copy\n",
        "a : list[str] = ['a','b','c']\n",
        "b = a.copy() # Deep copy\n",
        "a.append('d')\n",
        "print(\"a: \",a)\n",
        "print(\"b: \",b)\n",
        "c = a[:] # another way of Deep copy\n",
        "\n",
        "a.append('d')\n",
        "print(\"a: \", a)\n",
        "print(\"b: \", b)\n",
        "print(\"c: \", c)\n",
        "print(id(a), id(b), id(c))"
      ]
    },
    {
      "cell_type": "code",
      "execution_count": null,
      "metadata": {
        "id": "AB6N_UQNkSse"
      },
      "outputs": [],
      "source": [
        "# create new list\n",
        "a : list[str] = ['a','b','c']\n",
        "# print(id(a))\n",
        "a = ['d','e','f']\n",
        "# print(id(a))\n",
        "print(a)"
      ]
    },
    {
      "cell_type": "markdown",
      "metadata": {
        "id": "ncS5vw54m9cz"
      },
      "source": [
        "### extend()\n",
        "Supply the array to be extended"
      ]
    },
    {
      "cell_type": "code",
      "execution_count": null,
      "metadata": {
        "id": "UA01xUuQnMIx"
      },
      "outputs": [],
      "source": [
        "arr1: list[int] = [1,2,3]\n",
        "a : list[int] = [4,5,6]\n",
        "a.extend(a)\n",
        "print(a)"
      ]
    },
    {
      "cell_type": "markdown",
      "metadata": {
        "id": "qbzJ8W7SnWzN"
      },
      "source": [
        "### clear()"
      ]
    },
    {
      "cell_type": "code",
      "execution_count": null,
      "metadata": {
        "id": "jDER99DendSz"
      },
      "outputs": [],
      "source": [
        "a.clear()\n",
        "print(a)"
      ]
    },
    {
      "cell_type": "code",
      "execution_count": null,
      "metadata": {
        "id": "igV19QkCAnSw"
      },
      "outputs": [],
      "source": [
        "# students = [\"Ahmad\", \"Ali\", \"Kashif\"]\n",
        "\n",
        "# # Using clear()\n",
        "# students.clear()\n",
        "# print(id(students))  # Same ID, list cleared in place\n",
        "\n",
        "# # Reassigning to empty list\n",
        "# students = [\"Ahmad\", \"Ali\", \"Kashif\"]\n",
        "# students= []\n",
        "# print(id(students))"
      ]
    },
    {
      "cell_type": "markdown",
      "metadata": {
        "id": "ZaAciugjnsOU"
      },
      "source": [
        "### count(), index methods\n",
        "### list() method"
      ]
    },
    {
      "cell_type": "code",
      "execution_count": null,
      "metadata": {
        "id": "bvvseidnnvFg"
      },
      "outputs": [],
      "source": [
        "characters : list[str] = list(\"abcdefghijkalmnopqrstbuvwxyz\")\n",
        "characters.count('a')"
      ]
    },
    {
      "cell_type": "markdown",
      "metadata": {
        "id": "Nut8kJ2kn0O4"
      },
      "source": [
        "### index()"
      ]
    },
    {
      "cell_type": "code",
      "execution_count": null,
      "metadata": {
        "id": "6motr1fiKm7N"
      },
      "outputs": [],
      "source": [
        "characters.index('a',2)"
      ]
    },
    {
      "cell_type": "markdown",
      "metadata": {
        "id": "1-x8ijLboMGr"
      },
      "source": [
        "### sort() and reverse() methods\n",
        "Purpose: Sorts the elements in the list in-place in descending order. It modifies the list to be sorted based on values.\n",
        "\n",
        "Purpose: Reverses the order of the elements in the list in-place without sorting them. It simply flips the list from end to start."
      ]
    },
    {
      "cell_type": "code",
      "execution_count": null,
      "metadata": {
        "id": "U7Ct5S3yoVLz"
      },
      "outputs": [],
      "source": [
        "characters.sort()\n",
        "print(characters)\n",
        "\n",
        "characters.sort(reverse=True)\n",
        "print(characters)\n",
        "\n",
        "characters.reverse()\n",
        "print(characters)"
      ]
    },
    {
      "cell_type": "markdown",
      "metadata": {
        "id": "QLmlV2dFxXY4"
      },
      "source": [
        "## Slicing"
      ]
    },
    {
      "cell_type": "code",
      "execution_count": null,
      "metadata": {
        "id": "mlyy92R-xmf1"
      },
      "outputs": [],
      "source": [
        "characters : list[str] = list(\"ABCDEFGHIJKLMNOPQRSTUVWXYZ\")\n",
        "print(characters)"
      ]
    },
    {
      "cell_type": "code",
      "execution_count": null,
      "metadata": {
        "id": "M8ZZJsF2x7Xn"
      },
      "outputs": [],
      "source": [
        "#                          0    1    2                                                                                                                 25\n",
        "characters : list[str] = ['A', 'B', 'C', 'D', 'E', 'F', 'G', 'H', 'I', 'J', 'K', 'L', 'M', 'N', 'O', 'P', 'Q', 'R', 'S', 'T', 'U', 'V', 'W', 'X', 'Y', 'Z']\n",
        "#                         -26   -25  -24                                                                                                                         -1\n",
        "\n",
        "# defualt slicing go from left to right\n",
        "print(len(characters))\n",
        "print(characters[0:6]) # 0= include : index 2-1 = 1\n",
        "print(characters[:4]) # not pass any number = all\n",
        "print(characters[-26:-24])# 0= include : index -24-1 = -25\n",
        "print(characters[0:2:1]) # 0= include : index 2-1 = 1\n",
        "print(characters[0:2:])\n",
        "print(characters[0:7:2])\n"
      ]
    },
    {
      "cell_type": "code",
      "execution_count": null,
      "metadata": {
        "id": "7aUnHurryIdE"
      },
      "outputs": [],
      "source": [
        "print(characters)\n",
        "print(characters[::])"
      ]
    },
    {
      "cell_type": "code",
      "execution_count": null,
      "metadata": {
        "id": "Ic_3SULQzf9c"
      },
      "outputs": [],
      "source": [
        "characters : list[str] = ['A', 'B', 'C', 'D', 'E', 'F', 'G', 'H']\n",
        "                        #  1    2    3    4    5    6    7    8\n",
        "print(characters[::-1])\n",
        "print(characters[4:2:-1]) #E,D,C\n",
        "print(characters[4:7])"
      ]
    },
    {
      "cell_type": "code",
      "execution_count": null,
      "metadata": {
        "id": "iKZ5UFnZzppD"
      },
      "outputs": [],
      "source": [
        "#                          0    1    2    3    4   5     6    7\n",
        "characters : list[str] = ['A', 'B', 'C', 'D', 'E', 'F', 'G', 'H']\n",
        "#                         -8    -7   -6  -5    -4   -3   -2   -1\n",
        "\n",
        "# iteration slicing ->\n",
        "# step -> positive\n",
        "# step <- negative\n",
        "print(characters[-2:-5:-1]) # ['G', 'F', 'E']\n",
        "print(characters[-5:-2]) # ['D', 'E', 'F']\n",
        "print(characters[::])\n",
        "print(characters[::-1])"
      ]
    },
    {
      "cell_type": "markdown",
      "metadata": {
        "id": "3sOWor23bgIp"
      },
      "source": [
        "## `in` and `is` operators"
      ]
    },
    {
      "cell_type": "markdown",
      "metadata": {
        "id": "rLjZiamVb3bz"
      },
      "source": [
        "### `in` Operator\n",
        "The in operator is used to check membership."
      ]
    },
    {
      "cell_type": "code",
      "execution_count": null,
      "metadata": {
        "id": "Ws3KPf0Zb8nz"
      },
      "outputs": [],
      "source": [
        "# Example 1: Checking membership\n",
        "my_list = [1, 2, 3, 4, 5]\n",
        "print(3 in my_list)  # Output: True\n",
        "print(6 in my_list)  # Output: False\n",
        "print(7 not in my_list)  # Output: True\n",
        "\n",
        "# Example 2: Checking membership in strings\n",
        "my_string = \"Hello, World!\"\n",
        "print(\"Hello\" in my_string)  # Output: True\n",
        "print(\"Python\" in my_string)"
      ]
    },
    {
      "cell_type": "markdown",
      "metadata": {
        "id": "d34epecjcK1Z"
      },
      "source": [
        "### `is` Operator\n",
        "The is operator checks identity, i.e., whether two variables point to the same object in memory"
      ]
    },
    {
      "cell_type": "code",
      "execution_count": null,
      "metadata": {
        "id": "jdj10lNubtO4"
      },
      "outputs": [],
      "source": [
        "# Example 1: Checking identity\n",
        "a = [1, 2, 3]\n",
        "b = [1, 2, 3]\n",
        "c = a\n",
        "print(a is b)  # Output: False (different objects with the same value)\n",
        "print(a is c)  # Output: True (both variables point to the same object)\n",
        "print(a is not c)\n",
        "print(\"a:\",id(a))\n",
        "print(\"b:\",id(b))\n",
        "print(\"c:\",id(c))\n",
        "\n",
        "\n",
        "# Example 2: Comparing primitive types\n",
        "x = 10\n",
        "y = 10\n",
        "print(x is y)  # Output: True (small integers are cached and point to the same object)\n"
      ]
    },
    {
      "cell_type": "markdown",
      "metadata": {
        "id": "nbsWTzV5mv66"
      },
      "source": [
        "## Extra"
      ]
    },
    {
      "cell_type": "code",
      "execution_count": null,
      "metadata": {
        "id": "uanfR1Xjl-ur"
      },
      "outputs": [],
      "source": [
        "print(help(print))"
      ]
    },
    {
      "cell_type": "markdown",
      "metadata": {},
      "source": [
        "## Projects"
      ]
    },
    {
      "cell_type": "markdown",
      "metadata": {},
      "source": []
    },
    {
      "cell_type": "markdown",
      "metadata": {},
      "source": [
        "### Project 1: Student Management System\n",
        "Create a program to manage a list of student names. Implement functionalities to:\n",
        "- Add a new student.\n",
        "- Remove a student by name.\n",
        "- Display all students in alphabetical order.\n",
        "- Count the total number of students."
      ]
    },
    {
      "cell_type": "markdown",
      "metadata": {},
      "source": [
        "### Project 2: Character Analyzer\n",
        "Write a program that takes a string input from the user and:\n",
        "- Creates a list of characters from the string.\n",
        "- Counts the frequency of each character.\n",
        "- Identifies and displays the most and least frequent characters."
      ]
    },
    {
      "cell_type": "markdown",
      "metadata": {},
      "source": [
        "### Project 3: List Operations Demo\n",
        "Develop a Python script to demonstrate:\n",
        "- Appending items to a list.\n",
        "- Inserting an item at a specific position.\n",
        "- Popping and removing items.\n",
        "- Sorting and reversing the list.\n",
        "- Slicing the list to create sub-lists.\n"
      ]
    },
    {
      "cell_type": "markdown",
      "metadata": {},
      "source": [
        "### Project 4: Shallow vs. Deep Copy Exploration\n",
        "Create a program to illustrate the difference between shallow and deep copying of lists using examples. \n",
        "Display the impact of modifying one list on its copy in both cases."
      ]
    }
  ],
  "metadata": {
    "colab": {
      "provenance": []
    },
    "kernelspec": {
      "display_name": "Python 3",
      "name": "python3"
    },
    "language_info": {
      "name": "python"
    }
  },
  "nbformat": 4,
  "nbformat_minor": 0
}
