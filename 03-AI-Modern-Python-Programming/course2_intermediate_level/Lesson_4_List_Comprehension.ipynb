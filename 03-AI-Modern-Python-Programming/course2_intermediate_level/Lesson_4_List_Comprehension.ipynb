{
  "nbformat": 4,
  "nbformat_minor": 0,
  "metadata": {
    "colab": {
      "provenance": []
    },
    "kernelspec": {
      "name": "python3",
      "display_name": "Python 3"
    },
    "language_info": {
      "name": "python"
    }
  },
  "cells": [
    {
      "cell_type": "markdown",
      "source": [
        "# Introduction to List Comprehensions in Python\n",
        "\n",
        "## What is List Comprehension?\n",
        "\n",
        "List comprehension is a concise way to create lists in Python. It allows we to generate a new list by applying an expression to each item in an existing iterable (such as a list, tuple, or range) and optionally applying a condition to filter the items.\n",
        "\n",
        "## Why Do We Need List Comprehensions?\n",
        "\n"
      ],
      "metadata": {
        "id": "bDTyXjdpQiqB"
      }
    },
    {
      "cell_type": "markdown",
      "source": [
        "### The Problem: Creating Lists Using Loops\n",
        "\n",
        "Consider a scenario where we want to create a list of squares for the numbers 1 through 5. A typical approach might involve using a `for` loop:\n",
        "\n",
        "While this works, it requires multiple lines of code: one to initialize the list, one for the loop, and one to append each result. As the complexity of the list generation increases, so does the amount of code needed.\n"
      ],
      "metadata": {
        "id": "Hco1XNSMQ8KE"
      }
    },
    {
      "cell_type": "code",
      "execution_count": null,
      "metadata": {
        "colab": {
          "base_uri": "https://localhost:8080/"
        },
        "id": "8AWF27kyQQfR",
        "outputId": "18380108-6555-47ce-e5f4-61364366fdbf"
      },
      "outputs": [
        {
          "output_type": "stream",
          "name": "stdout",
          "text": [
            "[1, 4, 9, 16, 25]\n"
          ]
        }
      ],
      "source": [
        "squares : list[int]  = []\n",
        "for x in range(1, 6):\n",
        "    squares.append(x**2)\n",
        "\n",
        "print(squares)"
      ]
    },
    {
      "cell_type": "markdown",
      "source": [
        "### The Solution: Simplify Code with List Comprehensions\n",
        "\n",
        "List comprehensions provide a more elegant and concise way to achieve the same result. We can generate the list of squares in a single line:\n"
      ],
      "metadata": {
        "id": "kItaQEjCRQc1"
      }
    },
    {
      "cell_type": "code",
      "source": [
        "squares : list[int] = [x**2 for x in range(1, 6)]\n",
        "print(squares)"
      ],
      "metadata": {
        "colab": {
          "base_uri": "https://localhost:8080/"
        },
        "id": "ybezfIgrRRrz",
        "outputId": "65938319-a34d-459c-a05f-f13e8c9f00ac"
      },
      "execution_count": null,
      "outputs": [
        {
          "output_type": "stream",
          "name": "stdout",
          "text": [
            "[1, 4, 9, 16, 25]\n"
          ]
        }
      ]
    },
    {
      "cell_type": "markdown",
      "source": [
        "This approach is not only more readable but also often more efficient.\n",
        "\n",
        "## How List Comprehensions Work\n",
        "\n",
        "### Basic Syntax\n",
        "\n",
        "The basic syntax of a list comprehension is:\n",
        "\n",
        "```python\n",
        "[expression for item in iterable]\n",
        "```\n",
        "\n",
        "Where:\n",
        "- `expression` is the value to be included in the new list.\n",
        "- `item` represents each element in the `iterable` (e.g., list, range, etc.).\n",
        "- `iterable` is the collection or range we're iterating over.\n"
      ],
      "metadata": {
        "id": "OYUevrEYRgji"
      }
    },
    {
      "cell_type": "markdown",
      "source": [
        "### Example: Creating a List of Squares\n"
      ],
      "metadata": {
        "id": "_8phEkHKRptX"
      }
    },
    {
      "cell_type": "code",
      "source": [
        "squares : list[int] = [x**2 for x in range(1, 6)]\n",
        "print(squares)"
      ],
      "metadata": {
        "colab": {
          "base_uri": "https://localhost:8080/"
        },
        "id": "XZGRJuN6Rqpw",
        "outputId": "2207a54b-0e96-4cb4-ede0-2de9ed369015"
      },
      "execution_count": null,
      "outputs": [
        {
          "output_type": "stream",
          "name": "stdout",
          "text": [
            "[1, 4, 9, 16, 25]\n"
          ]
        }
      ]
    },
    {
      "cell_type": "markdown",
      "source": [
        "### Adding Conditions: Filtering with List Comprehensions\n",
        "\n",
        "We can add an optional condition to filter the elements being processed by the list comprehension.\n"
      ],
      "metadata": {
        "id": "WrQjnVPCR1U0"
      }
    },
    {
      "cell_type": "markdown",
      "source": [
        "#### Example1: Creating a List of Even Squares\n"
      ],
      "metadata": {
        "id": "BkhYFHOyR2YU"
      }
    },
    {
      "cell_type": "code",
      "source": [
        "even_squares : list[int] = [x**2 for x in range(1, 11) if x % 2 == 0]\n",
        "print(even_squares)"
      ],
      "metadata": {
        "colab": {
          "base_uri": "https://localhost:8080/"
        },
        "id": "bXgsvi4_R53E",
        "outputId": "d572b874-c2e3-412a-e0db-77a803e794bb"
      },
      "execution_count": null,
      "outputs": [
        {
          "output_type": "stream",
          "name": "stdout",
          "text": [
            "[4, 16, 36, 64, 100]\n"
          ]
        }
      ]
    },
    {
      "cell_type": "markdown",
      "source": [
        "In this example, the list comprehension includes only even numbers (i.e., `x % 2 == 0`) before calculating the square.\n",
        "*italicized text*"
      ],
      "metadata": {
        "id": "4pFf2m3kSB_w"
      }
    },
    {
      "cell_type": "markdown",
      "source": [
        "#### Example2: Creating a List of Even Squares\n"
      ],
      "metadata": {
        "id": "GierrjTEWFEl"
      }
    },
    {
      "cell_type": "code",
      "source": [
        "numbers: list[int] = [2, 4, 6, 8]\n",
        "squares: list[int] = []\n",
        "\n",
        "for number in numbers:\n",
        "    square = number**2\n",
        "    squares.append(square)\n",
        "    # squares.append(number**2)\n",
        "\n",
        "print(squares)"
      ],
      "metadata": {
        "colab": {
          "base_uri": "https://localhost:8080/"
        },
        "id": "jnfwIgscWMDe",
        "outputId": "84492c3d-fa77-4522-837b-434d3ff4448b"
      },
      "execution_count": null,
      "outputs": [
        {
          "output_type": "stream",
          "name": "stdout",
          "text": [
            "[4, 16, 36, 64]\n"
          ]
        }
      ]
    },
    {
      "cell_type": "code",
      "source": [
        "# [expression for item in iterable]\n",
        "squares2 = [number**2 for number in numbers]\n",
        "print(squares2)"
      ],
      "metadata": {
        "colab": {
          "base_uri": "https://localhost:8080/"
        },
        "id": "iuje3YnmWS3z",
        "outputId": "612c2274-9479-4432-f84f-fc1e6839f8b2"
      },
      "execution_count": null,
      "outputs": [
        {
          "output_type": "stream",
          "name": "stdout",
          "text": [
            "[4, 16, 36, 64]\n"
          ]
        }
      ]
    },
    {
      "cell_type": "markdown",
      "source": [
        "### Method Finding through List Comprehension"
      ],
      "metadata": {
        "id": "8yzLO_3rWjZ4"
      }
    },
    {
      "cell_type": "code",
      "source": [
        "print(dir(str))\n",
        "methods = [method for method in dir(str) if '__' not in method]\n",
        "print(methods)"
      ],
      "metadata": {
        "colab": {
          "base_uri": "https://localhost:8080/"
        },
        "id": "VPy7MsutWrNB",
        "outputId": "2cfd3432-74c1-4442-a000-0e49e75d0578"
      },
      "execution_count": null,
      "outputs": [
        {
          "output_type": "stream",
          "name": "stdout",
          "text": [
            "['__add__', '__class__', '__contains__', '__delattr__', '__dir__', '__doc__', '__eq__', '__format__', '__ge__', '__getattribute__', '__getitem__', '__getnewargs__', '__gt__', '__hash__', '__init__', '__init_subclass__', '__iter__', '__le__', '__len__', '__lt__', '__mod__', '__mul__', '__ne__', '__new__', '__reduce__', '__reduce_ex__', '__repr__', '__rmod__', '__rmul__', '__setattr__', '__sizeof__', '__str__', '__subclasshook__', 'capitalize', 'casefold', 'center', 'count', 'encode', 'endswith', 'expandtabs', 'find', 'format', 'format_map', 'index', 'isalnum', 'isalpha', 'isascii', 'isdecimal', 'isdigit', 'isidentifier', 'islower', 'isnumeric', 'isprintable', 'isspace', 'istitle', 'isupper', 'join', 'ljust', 'lower', 'lstrip', 'maketrans', 'partition', 'removeprefix', 'removesuffix', 'replace', 'rfind', 'rindex', 'rjust', 'rpartition', 'rsplit', 'rstrip', 'split', 'splitlines', 'startswith', 'strip', 'swapcase', 'title', 'translate', 'upper', 'zfill']\n",
            "['capitalize', 'casefold', 'center', 'count', 'encode', 'endswith', 'expandtabs', 'find', 'format', 'format_map', 'index', 'isalnum', 'isalpha', 'isascii', 'isdecimal', 'isdigit', 'isidentifier', 'islower', 'isnumeric', 'isprintable', 'isspace', 'istitle', 'isupper', 'join', 'ljust', 'lower', 'lstrip', 'maketrans', 'partition', 'removeprefix', 'removesuffix', 'replace', 'rfind', 'rindex', 'rjust', 'rpartition', 'rsplit', 'rstrip', 'split', 'splitlines', 'startswith', 'strip', 'swapcase', 'title', 'translate', 'upper', 'zfill']\n"
          ]
        }
      ]
    },
    {
      "cell_type": "markdown",
      "source": [
        "## Conclusion\n",
        "\n",
        "List comprehensions are a powerful feature in Python that allows for clean, concise, and efficient list creation. Whether we're generating simple lists or working with more complex data transformations, list comprehensions can significantly streamline our code."
      ],
      "metadata": {
        "id": "JCpveJX9SaAi"
      }
    }
  ]
}