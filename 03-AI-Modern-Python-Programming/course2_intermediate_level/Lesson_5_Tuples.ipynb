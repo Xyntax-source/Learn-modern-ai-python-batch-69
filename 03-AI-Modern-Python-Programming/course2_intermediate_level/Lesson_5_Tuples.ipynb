{
  "nbformat": 4,
  "nbformat_minor": 0,
  "metadata": {
    "colab": {
      "provenance": []
    },
    "kernelspec": {
      "name": "python3",
      "display_name": "Python 3"
    },
    "language_info": {
      "name": "python"
    }
  },
  "cells": [
    {
      "cell_type": "markdown",
      "source": [
        "# Introduction to Tuples in Python\n",
        "A sequence is a type of data in python which is able to store more than one value. These values can be sequentially browsed i.e. element by element.\n",
        "\n",
        "So far, we've only studied one type of sequence i.e. `list`. Here we'll explore another type of sequene called `tuple`.\n",
        "\n",
        "We've already discussed the concept of **Immutability** and **Mutability**. Let's revise it.\n",
        "\n",
        "- *Immutabale* means can't be changed/modified/updated. Example: Primitive Data types\n",
        "- *Mutable* means can be changed/modified/updated. Example: Lists in Python\n"
      ],
      "metadata": {
        "id": "0mR4JPtIXfIe"
      }
    },
    {
      "cell_type": "markdown",
      "source": [
        "## What is a Tuple?\n",
        "\n",
        "A tuple is an immutable, ordered collection of elements in Python. Like lists, tuples can hold a sequence of elements, but unlike lists, tuples cannot be changed (i.e., modified) after they are created. Tuples are typically used to group together related data.\n"
      ],
      "metadata": {
        "id": "cYdo8VoIXiIS"
      }
    },
    {
      "cell_type": "markdown",
      "source": [
        "## Why Do We Need Tuples?\n"
      ],
      "metadata": {
        "id": "NAHu7qFNXlaA"
      }
    },
    {
      "cell_type": "markdown",
      "source": [
        "### The Problem: Need for Immutable Collections\n",
        "\n",
        "In programming, there are situations where we want to ensure that a sequence of values remains constant throughout the program. For example, we might have a set of coordinates or configuration values that should not be altered accidentally.\n",
        "\n",
        "Using a list for such cases is risky because lists are mutable, meaning their content can be changed. This is where tuples come in handy.\n"
      ],
      "metadata": {
        "id": "KHkEgvwSXpzd"
      }
    },
    {
      "cell_type": "markdown",
      "source": [
        "### The Solution: Using Tuples for Immutable Sequences\n",
        "\n",
        "Tuples provide a way to create a sequence of elements that cannot be modified. This immutability makes tuples useful in scenarios where the integrity of the data must be preserved."
      ],
      "metadata": {
        "id": "0lY6nE0GXu5z"
      }
    },
    {
      "cell_type": "code",
      "execution_count": null,
      "metadata": {
        "id": "-jG_i4P7XSkF",
        "colab": {
          "base_uri": "https://localhost:8080/"
        },
        "outputId": "3ecc1b72-94b8-46f9-fe65-822a97f81761"
      },
      "outputs": [
        {
          "output_type": "stream",
          "name": "stdout",
          "text": [
            "(10, 20)\n"
          ]
        }
      ],
      "source": [
        "coordinates : tuple[int,int] = (10, 20)\n",
        "print(coordinates)  # Output: (10, 20)\n",
        "\n",
        "# Trying to modify a tuple will raise an error\n",
        "# coordinates[0] = 15  # This will raise a TypeError"
      ]
    },
    {
      "cell_type": "markdown",
      "source": [
        "## How Tuples Work\n"
      ],
      "metadata": {
        "id": "HWIUWHOOX80d"
      }
    },
    {
      "cell_type": "markdown",
      "source": [
        "### Basic Syntax\n",
        "\n",
        "Tuples are created by placing a sequence of elements separated by commas within parentheses:\n"
      ],
      "metadata": {
        "id": "c4arHuQkX98C"
      }
    },
    {
      "cell_type": "code",
      "source": [
        "my_tuple : tuple[int, int, int] = (1, 2, 3)\n",
        "print(type(my_tuple))"
      ],
      "metadata": {
        "id": "yLI5S506YFzS",
        "colab": {
          "base_uri": "https://localhost:8080/"
        },
        "outputId": "b53c9a7a-0689-4fea-ed11-a3a29ed0319a"
      },
      "execution_count": null,
      "outputs": [
        {
          "output_type": "stream",
          "name": "stdout",
          "text": [
            "<class 'tuple'>\n"
          ]
        }
      ]
    },
    {
      "cell_type": "markdown",
      "source": [
        "### Example: Storing Multiple Values\n",
        "\n",
        "Tuples can be used to store related data, such as the x, y, and z coordinates of a point in space:\n"
      ],
      "metadata": {
        "id": "AwwBvbvdYGvQ"
      }
    },
    {
      "cell_type": "code",
      "source": [
        "point : tuple[int, int, int] = (1, 2, 3)\n",
        "print(point)"
      ],
      "metadata": {
        "id": "3RfILHQrYLKg",
        "colab": {
          "base_uri": "https://localhost:8080/"
        },
        "outputId": "03a383d9-f40d-4e45-def8-2b8cb42d6d8a"
      },
      "execution_count": null,
      "outputs": [
        {
          "output_type": "stream",
          "name": "stdout",
          "text": [
            "(1, 2, 3)\n"
          ]
        }
      ]
    },
    {
      "cell_type": "markdown",
      "source": [
        "### Creating a Tuple Without Parentheses\n",
        "\n",
        "We can also create a tuple without using parentheses by simply separating the elements with commas:\n"
      ],
      "metadata": {
        "id": "2Oqvv0_LYJ4h"
      }
    },
    {
      "cell_type": "code",
      "source": [
        "my_tuple : tuple[int, int, int] = 1, 2, 3\n",
        "print(my_tuple)"
      ],
      "metadata": {
        "id": "o2KhMjR8YSW7",
        "colab": {
          "base_uri": "https://localhost:8080/"
        },
        "outputId": "7c6d05dd-c1f4-4b21-e7bd-e83791a38628"
      },
      "execution_count": null,
      "outputs": [
        {
          "output_type": "stream",
          "name": "stdout",
          "text": [
            "(1, 2, 3)\n"
          ]
        }
      ]
    },
    {
      "cell_type": "markdown",
      "source": [
        "### Single-Element Tuples\n",
        "\n",
        "To create a tuple with a single element, we must include a trailing comma:\n"
      ],
      "metadata": {
        "id": "wlAUY7kRYX-B"
      }
    },
    {
      "cell_type": "code",
      "source": [
        "single_element_tuple = (5,)\n",
        "print(single_element_tuple)"
      ],
      "metadata": {
        "id": "RIeAEFEtYY4z",
        "colab": {
          "base_uri": "https://localhost:8080/"
        },
        "outputId": "56d77a12-b6f0-4e0b-fea8-a52c217825bf"
      },
      "execution_count": null,
      "outputs": [
        {
          "output_type": "stream",
          "name": "stdout",
          "text": [
            "(5,)\n"
          ]
        }
      ]
    },
    {
      "cell_type": "markdown",
      "source": [
        "Without the comma, Python will not recognize it as a tuple:\n"
      ],
      "metadata": {
        "id": "DDOUH4EpYfh_"
      }
    },
    {
      "cell_type": "code",
      "source": [
        "not_a_tuple = (5)\n",
        "print(type(not_a_tuple))\n",
        "print(not_a_tuple)"
      ],
      "metadata": {
        "id": "qGic9RBCYgdQ",
        "colab": {
          "base_uri": "https://localhost:8080/"
        },
        "outputId": "afe04d77-5b93-4002-b3b7-ba348f282ca9"
      },
      "execution_count": null,
      "outputs": [
        {
          "output_type": "stream",
          "name": "stdout",
          "text": [
            "<class 'int'>\n",
            "5\n"
          ]
        }
      ]
    },
    {
      "cell_type": "markdown",
      "source": [
        "## Operations with Tuples\n"
      ],
      "metadata": {
        "id": "8RnoVxF3YnGn"
      }
    },
    {
      "cell_type": "markdown",
      "source": [
        "### Accessing Elements\n",
        "\n",
        "We can access elements in a tuple using indexing, similar to lists:"
      ],
      "metadata": {
        "id": "xIQqVxrLYvo8"
      }
    },
    {
      "cell_type": "code",
      "source": [
        "my_tuple = ('apple', 'banana', 'cherry')\n",
        "print(my_tuple[1])"
      ],
      "metadata": {
        "id": "8xjVOrUBYw4d",
        "colab": {
          "base_uri": "https://localhost:8080/"
        },
        "outputId": "432b8ef5-e45b-48ac-835b-d832da944cae"
      },
      "execution_count": null,
      "outputs": [
        {
          "output_type": "stream",
          "name": "stdout",
          "text": [
            "banana\n"
          ]
        }
      ]
    },
    {
      "cell_type": "markdown",
      "source": [
        "### Slicing Tuples\n",
        "\n",
        "We can slice tuples to get a range of elements:"
      ],
      "metadata": {
        "id": "vesXpDzFY4fy"
      }
    },
    {
      "cell_type": "code",
      "source": [
        "my_tuple = ('apple', 'banana', 'cherry', 'date')\n",
        "print(my_tuple[1:3])"
      ],
      "metadata": {
        "id": "qY-4NoTgY5Q5",
        "colab": {
          "base_uri": "https://localhost:8080/"
        },
        "outputId": "f8d3a452-d187-4705-f0d9-208d07adc550"
      },
      "execution_count": null,
      "outputs": [
        {
          "output_type": "stream",
          "name": "stdout",
          "text": [
            "('banana', 'cherry')\n"
          ]
        }
      ]
    },
    {
      "cell_type": "markdown",
      "source": [
        "### Tuple Concatenation and Repetition\n",
        "\n",
        "Tuples can be concatenated using the `+` operator and repeated using the `*` operator:\n"
      ],
      "metadata": {
        "id": "9UCENUxWY_ZH"
      }
    },
    {
      "cell_type": "code",
      "source": [
        "# Concatenation\n",
        "tuple1 = (1, 2)\n",
        "tuple2 = (3, 4)\n",
        "result = tuple1 + tuple2\n",
        "print(result)  # Output: (1, 2, 3, 4)\n",
        "\n"
      ],
      "metadata": {
        "id": "qPr4c0U_ZAWM",
        "colab": {
          "base_uri": "https://localhost:8080/"
        },
        "outputId": "cb44d9d5-02cb-4815-dbcf-cd39b15e2956"
      },
      "execution_count": null,
      "outputs": [
        {
          "output_type": "stream",
          "name": "stdout",
          "text": [
            "(1, 2, 3, 4)\n"
          ]
        }
      ]
    },
    {
      "cell_type": "code",
      "source": [
        "# Repetition\n",
        "repeated_tuple = ('A',) * 3\n",
        "print(repeated_tuple)  # Output: ('A', 'A', 'A')"
      ],
      "metadata": {
        "id": "m0w2bhlDZHsR",
        "colab": {
          "base_uri": "https://localhost:8080/"
        },
        "outputId": "0fef3bd4-6f65-49d6-86f4-f9c9ab798046"
      },
      "execution_count": null,
      "outputs": [
        {
          "output_type": "stream",
          "name": "stdout",
          "text": [
            "('A', 'A', 'A')\n"
          ]
        }
      ]
    },
    {
      "cell_type": "markdown",
      "source": [
        "### Tuple Unpacking\n",
        "\n",
        "Tuple unpacking allows us to assign each element of a tuple to a variable in a single statement:\n"
      ],
      "metadata": {
        "id": "QPiRvmcjZLOq"
      }
    },
    {
      "cell_type": "code",
      "source": [
        "scores = (10, 20)\n",
        "x, y = scores\n",
        "print(x)  # Output: 10\n",
        "print(y)  # Output: 20"
      ],
      "metadata": {
        "id": "JU9UcvtlZMY6",
        "colab": {
          "base_uri": "https://localhost:8080/"
        },
        "outputId": "f2040675-e48a-4f10-8046-7261f98131c1"
      },
      "execution_count": null,
      "outputs": [
        {
          "output_type": "stream",
          "name": "stdout",
          "text": [
            "10\n",
            "20\n"
          ]
        }
      ]
    },
    {
      "cell_type": "markdown",
      "source": [
        "### Example 1:"
      ],
      "metadata": {
        "id": "p5gA-3ZGpd3p"
      }
    },
    {
      "cell_type": "code",
      "source": [
        "tup: tuple[int, ...] = (1, 2, 3, 4, 5, 6)\n",
        "print(tup[0])"
      ],
      "metadata": {
        "colab": {
          "base_uri": "https://localhost:8080/"
        },
        "id": "zk8PA6rlpi5K",
        "outputId": "9d0119e3-ff5a-4c81-aabb-7fa698958a30"
      },
      "execution_count": null,
      "outputs": [
        {
          "output_type": "stream",
          "name": "stdout",
          "text": [
            "1\n"
          ]
        }
      ]
    },
    {
      "cell_type": "markdown",
      "source": [
        "### Example 2: Swap"
      ],
      "metadata": {
        "id": "uDlySIERpwgb"
      }
    },
    {
      "cell_type": "code",
      "source": [
        "# integer swapping\n",
        "a = 5\n",
        "b = 10\n",
        "a, b = b, a\n",
        "print(a)\n",
        "print(b)"
      ],
      "metadata": {
        "colab": {
          "base_uri": "https://localhost:8080/"
        },
        "id": "ZCjccfGop03N",
        "outputId": "d806f60c-f93c-4e36-fe1c-64b534e49da9"
      },
      "execution_count": null,
      "outputs": [
        {
          "output_type": "stream",
          "name": "stdout",
          "text": [
            "10\n",
            "5\n"
          ]
        }
      ]
    },
    {
      "cell_type": "code",
      "source": [
        "# tuple swapping\n",
        "t1 = (1, 2)\n",
        "t2 = (2, 3)\n",
        "print(f\"Before swapping: t1={t1} and t2={t2}\")\n",
        "t1, t2 = t2, t1\n",
        "print(f\"After swapping: t1={t1} and t2={t2}\")"
      ],
      "metadata": {
        "colab": {
          "base_uri": "https://localhost:8080/"
        },
        "id": "D-pT1ON3p_jT",
        "outputId": "1ab29d43-5f6a-4e0a-89e5-4473687a584a"
      },
      "execution_count": null,
      "outputs": [
        {
          "output_type": "stream",
          "name": "stdout",
          "text": [
            "Before swapping: t1=(1, 2) and t2=(2, 3)\n",
            "After swapping: t1=(2, 3) and t2=(1, 2)\n"
          ]
        }
      ]
    },
    {
      "cell_type": "markdown",
      "source": [
        "### Example 3: Assignment"
      ],
      "metadata": {
        "id": "-bhn2c-zqzhB"
      }
    },
    {
      "cell_type": "code",
      "source": [
        "# Assignment: Try to change the elements in the list.\n",
        "test_tup = (1, 2, [100, 200])\n",
        "print(test_tup)\n",
        "print(type(test_tup))"
      ],
      "metadata": {
        "id": "tut6uT33q7VB"
      },
      "execution_count": null,
      "outputs": []
    },
    {
      "cell_type": "markdown",
      "source": [
        "## Advantages of Tuples (Self Study)\n",
        "\n",
        "### 1. Immutability\n",
        "\n",
        "The immutability of tuples ensures that the data remains consistent and secure, especially in cases where the data should not be altered.\n",
        "\n",
        "### 2. Performance\n",
        "\n",
        "Tuples are generally faster than lists for iterating through elements because they are immutable and therefore require less memory.\n",
        "\n",
        "### 3. Use as Dictionary Keys\n",
        "\n",
        "Because tuples are immutable, they can be used as keys in dictionaries, unlike lists.\n",
        "\n",
        "```python\n",
        "location = {}\n",
        "point = (10, 20)\n",
        "location[point] = \"Park\"\n",
        "print(location)  # Output: {(10, 20): 'Park'}\n",
        "```\n",
        "\n",
        "## Conclusion\n",
        "\n",
        "Tuples are a fundamental data structure in Python that provide a way to store ordered, immutable collections of elements. They are ideal for situations where we need a sequence of elements that should not be changed, and they offer several advantages in terms of performance and data integrity.\n",
        "\n",
        "\n",
        "## Tuple Methods and Operations\n",
        "\n",
        "### 1. `count()`\n",
        "\n",
        "The `count()` method returns the number of occurrences of a specified value in the tuple.\n",
        "\n",
        "#### Example:\n",
        "\n",
        "```python\n",
        "my_tuple = (1, 2, 3, 2, 2, 4)\n",
        "count_of_twos = my_tuple.count(2)\n",
        "print(count_of_twos)  # Output: 3\n",
        "```\n",
        "\n",
        "### 2. `index()`\n",
        "\n",
        "The `index()` method returns the index of the first occurrence of a specified value. If the value is not found, it raises a `ValueError`.\n",
        "\n",
        "#### Example:\n",
        "\n",
        "```python\n",
        "my_tuple = ('apple', 'banana', 'cherry')\n",
        "index_of_banana = my_tuple.index('banana')\n",
        "print(index_of_banana)  # Output: 1\n",
        "```\n",
        "\n",
        "### Tuple Operations\n",
        "\n",
        "#### 1. Accessing Elements\n",
        "\n",
        "We can access elements of a tuple using square brackets `[]` with the index of the element. Remember that tuple indices start at 0.\n",
        "\n",
        "```python\n",
        "my_tuple = ('apple', 'banana', 'cherry')\n",
        "print(my_tuple[0])  # Output: apple\n",
        "```\n",
        "\n",
        "#### 2. Slicing\n",
        "\n",
        "We can slice a tuple to get a subset of elements:\n",
        "\n",
        "```python\n",
        "my_tuple = ('apple', 'banana', 'cherry', 'date')\n",
        "print(my_tuple[1:3])  # Output: ('banana', 'cherry')\n",
        "```\n",
        "\n",
        "#### 3. Concatenation\n",
        "\n",
        "Tuples can be concatenated using the `+` operator:\n",
        "\n",
        "```python\n",
        "tuple1 = (1, 2, 3)\n",
        "tuple2 = (4, 5, 6)\n",
        "result = tuple1 + tuple2\n",
        "print(result)  # Output: (1, 2, 3, 4, 5, 6)\n",
        "```\n",
        "\n",
        "#### 4. Repetition\n",
        "\n",
        "We can repeat a tuple a certain number of times using the `*` operator:\n",
        "\n",
        "```python\n",
        "my_tuple = ('A', 'B')\n",
        "repeated_tuple = my_tuple * 3\n",
        "print(repeated_tuple)  # Output: ('A', 'B', 'A', 'B', 'A', 'B')\n",
        "```\n",
        "\n",
        "#### 5. Membership Test\n",
        "\n",
        "We can check if an item exists in a tuple using the `in` keyword:\n",
        "\n",
        "```python\n",
        "my_tuple = ('apple', 'banana', 'cherry')\n",
        "print('banana' in my_tuple)  # Output: True\n",
        "print('grape' in my_tuple)   # Output: False\n",
        "```\n",
        "\n",
        "#### 6. Iterating Over a Tuple\n",
        "\n",
        "We can iterate over the elements of a tuple using a `for` loop:\n",
        "\n",
        "```python\n",
        "my_tuple = ('apple', 'banana', 'cherry')\n",
        "for fruit in my_tuple:\n",
        "    print(fruit)\n",
        "# Output:\n",
        "# apple\n",
        "# banana\n",
        "# cherry\n",
        "```\n",
        "\n",
        "### Tuple Usage Examples\n",
        "\n",
        "\n",
        "#### 1. Swapping Variables\n",
        "\n",
        "Tuples can be used for swapping the values of two variables without needing a temporary variable.\n",
        "\n",
        "```python\n",
        "a = 5\n",
        "b = 10\n",
        "a, b = b, a\n",
        "print(a)  # Output: 10\n",
        "print(b)  # Output: 5\n",
        "```\n",
        "#### 2. Swapping Tuples\n",
        "Tuples themselves can be swapped.\n",
        "\n",
        "```python\n",
        "t1 = (1,2)\n",
        "t2 = (2,3)\n",
        "print(f\"Before swapping: t1={t1} and t2={t2}\") # Output: Before swapping: t1=(1, 2) and t2=(2, 3)\n",
        "t1, t2 = t2, t1\n",
        "print(f\"After swapping: t1={t1} and t2={t2}\") # Output: After swapping: t1=(2, 3) and t2=(1, 2)\n",
        "```\n",
        "\n",
        "#### 3. Storing Related Data\n",
        "\n",
        "Tuples can store related data, like coordinates or RGB color values.\n",
        "\n",
        "```python\n",
        "point = (10, 20)\n",
        "color = (255, 0, 0)\n",
        "\n",
        "print(point)  # Output: (10, 20)\n",
        "print(color)  # Output: (255, 0, 0)\n",
        "```\n",
        "\n",
        "#### 4. Using Tuples as Dictionary Keys\n",
        "\n",
        "Because tuples are immutable, they can be used as keys in dictionaries.\n",
        "\n",
        "```python\n",
        "locations = {}\n",
        "point = (10, 20)\n",
        "locations[point] = \"Park\"\n",
        "print(locations)  # Output: {(10, 20): 'Park'}\n",
        "```\n",
        "\n",
        "\n"
      ],
      "metadata": {
        "id": "p7pMP9UEZP-8"
      }
    }
  ]
}