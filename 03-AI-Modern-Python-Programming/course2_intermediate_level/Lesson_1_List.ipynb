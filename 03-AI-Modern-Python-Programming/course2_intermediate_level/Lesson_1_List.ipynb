{
  "nbformat": 4,
  "nbformat_minor": 0,
  "metadata": {
    "colab": {
      "provenance": [],
      "collapsed_sections": [
        "QLmlV2dFxXY4"
      ]
    },
    "kernelspec": {
      "name": "python3",
      "display_name": "Python 3"
    },
    "language_info": {
      "name": "python"
    }
  },
  "cells": [
    {
      "cell_type": "markdown",
      "source": [
        "# What is List?"
      ],
      "metadata": {
        "id": "My4w3iNt2UY6"
      }
    },
    {
      "cell_type": "markdown",
      "source": [
        "## Problem"
      ],
      "metadata": {
        "id": "t2uUP-Ph30js"
      }
    },
    {
      "cell_type": "markdown",
      "source": [
        "If you want to store multiple items, you would need to create a separate variable for each one.\n",
        "\n",
        "```\n",
        "student1 = \"Ahmad\"\n",
        "student2 = \"Ali\"\n",
        "student3 = \"Kashif\"\n",
        "```\n",
        "\n",
        "This approach works fine if you have just a few items. But what if you have 10, 100, or even more? It quickly becomes unmanageable.\n",
        "\n",
        "If you want to add or remove an item, you have to manually shift the data around or create new variables.\n",
        "\n",
        "```\n",
        "student4 = \"Usman\"\n",
        "```\n",
        "\n",
        "Accessing an item requires you to remember the exact variable name associated with it.\n",
        "\n",
        "```\n",
        "print(student1)\n",
        "print(student2)\n",
        "```"
      ],
      "metadata": {
        "id": "fgDdErUn2vzI"
      }
    },
    {
      "cell_type": "markdown",
      "source": [
        "## Solution"
      ],
      "metadata": {
        "id": "hS7-o45gU72v"
      }
    },
    {
      "cell_type": "markdown",
      "source": [
        "### List\n",
        "A list in Python is like a container that can hold multiple items, one after another. Imagine you have a shopping list where you write down everything you need to buy. A Python list is very similar, but instead of just groceries, it can hold all kinds of things like numbers, words, or even other lists!\n",
        "\n",
        "### Store Multiple Items Together:\n",
        "\n",
        "A list allows you to keep multiple items in one place. For example, if you want to keep track of all your students' names, you can store them in a list.\n"
      ],
      "metadata": {
        "id": "Wt_hhuVaVOPN"
      }
    },
    {
      "cell_type": "code",
      "source": [
        "students: list[str] = [\"Ahmad\", \"Ali\", \"Kashif\"]"
      ],
      "metadata": {
        "id": "QFKWuvaLSsaB"
      },
      "execution_count": null,
      "outputs": []
    },
    {
      "cell_type": "markdown",
      "source": [
        "### Access Items by Position:\n",
        "\n",
        "Lists keep items in the order you put them in. You can access any item by telling Python where it is in the list (starting from 0)."
      ],
      "metadata": {
        "id": "ZaZN7zpjgnOq"
      }
    },
    {
      "cell_type": "code",
      "source": [
        "print(students[0])\n",
        "print(students[1])"
      ],
      "metadata": {
        "colab": {
          "base_uri": "https://localhost:8080/"
        },
        "id": "dCNcXveVgqbe",
        "outputId": "3ed23c02-1b73-47e0-ca02-c69f3e019cdc"
      },
      "execution_count": null,
      "outputs": [
        {
          "output_type": "stream",
          "name": "stdout",
          "text": [
            "Ahmad\n",
            "Ali\n"
          ]
        }
      ]
    },
    {
      "cell_type": "markdown",
      "source": [
        "### Change Items:\n",
        "\n",
        "You can easily change an item in the list if you need to update it."
      ],
      "metadata": {
        "id": "PgfUjz4lgxiK"
      }
    },
    {
      "cell_type": "code",
      "source": [
        "students[0]: list[str] = \"Saleem\""
      ],
      "metadata": {
        "id": "hXKyqi40gzHi"
      },
      "execution_count": null,
      "outputs": []
    },
    {
      "cell_type": "code",
      "source": [
        "print(students)"
      ],
      "metadata": {
        "colab": {
          "base_uri": "https://localhost:8080/"
        },
        "id": "kmQDFuomhAaA",
        "outputId": "12998d86-55b4-4992-c061-48214777d8da"
      },
      "execution_count": null,
      "outputs": [
        {
          "output_type": "stream",
          "name": "stdout",
          "text": [
            "['Saleem', 'Ali', 'Kashif']\n"
          ]
        }
      ]
    },
    {
      "cell_type": "markdown",
      "source": [
        "## Array Methods"
      ],
      "metadata": {
        "id": "FhvgpqU0mmvW"
      }
    },
    {
      "cell_type": "code",
      "source": [
        "[i for i in dir(students) if \"__\" not in i]"
      ],
      "metadata": {
        "colab": {
          "base_uri": "https://localhost:8080/"
        },
        "id": "EBSKHHrNit_8",
        "outputId": "30fa5293-170d-4819-ec67-f557e247c894"
      },
      "execution_count": null,
      "outputs": [
        {
          "output_type": "execute_result",
          "data": {
            "text/plain": [
              "['append',\n",
              " 'clear',\n",
              " 'copy',\n",
              " 'count',\n",
              " 'extend',\n",
              " 'index',\n",
              " 'insert',\n",
              " 'pop',\n",
              " 'remove',\n",
              " 'reverse',\n",
              " 'sort']"
            ]
          },
          "metadata": {},
          "execution_count": 5
        }
      ]
    },
    {
      "cell_type": "markdown",
      "source": [
        "### Append a new student\n"
      ],
      "metadata": {
        "id": "CZVT5q0khJl1"
      }
    },
    {
      "cell_type": "code",
      "source": [
        "students.append(\"Usman\")\n",
        "print(students)"
      ],
      "metadata": {
        "colab": {
          "base_uri": "https://localhost:8080/"
        },
        "id": "1_StCoUOhRKC",
        "outputId": "e3543ef6-e04b-40dd-d801-036586854c72"
      },
      "execution_count": null,
      "outputs": [
        {
          "output_type": "stream",
          "name": "stdout",
          "text": [
            "['Saleem', 'Ali', 'Kashif', 'Usman']\n"
          ]
        }
      ]
    },
    {
      "cell_type": "markdown",
      "source": [
        "### insert()"
      ],
      "metadata": {
        "id": "j2C-m5gR0Xv_"
      }
    },
    {
      "cell_type": "code",
      "source": [
        "students.insert(0,\"ahmad\")"
      ],
      "metadata": {
        "id": "e4VmTLIX0aPq"
      },
      "execution_count": null,
      "outputs": []
    },
    {
      "cell_type": "code",
      "source": [
        "print(students)"
      ],
      "metadata": {
        "colab": {
          "base_uri": "https://localhost:8080/"
        },
        "id": "IxphqU6gzu71",
        "outputId": "f97a2b07-df6b-4732-dc07-06fa76cc66fc"
      },
      "execution_count": null,
      "outputs": [
        {
          "output_type": "stream",
          "name": "stdout",
          "text": [
            "['ahmad', 'Saleem', 'Ali', 'Kashif', 'Usman']\n"
          ]
        }
      ]
    },
    {
      "cell_type": "code",
      "source": [
        "students.insert(3,\"Iqbal\")\n",
        "print(students)"
      ],
      "metadata": {
        "colab": {
          "base_uri": "https://localhost:8080/"
        },
        "id": "N4tjNi9_z17y",
        "outputId": "b2e4e5cd-bceb-4cf9-e6a5-8054476e1423"
      },
      "execution_count": null,
      "outputs": [
        {
          "output_type": "stream",
          "name": "stdout",
          "text": [
            "['ahmad', 'Saleem', 'Ali', 'Iqbal', 'Kashif', 'Usman']\n"
          ]
        }
      ]
    },
    {
      "cell_type": "markdown",
      "source": [
        "### Pop the last student"
      ],
      "metadata": {
        "id": "L4nI2MGqhV9q"
      }
    },
    {
      "cell_type": "code",
      "source": [
        "last_student:list[str] = students.pop()\n",
        "print(last_student)\n",
        "print(students)"
      ],
      "metadata": {
        "colab": {
          "base_uri": "https://localhost:8080/"
        },
        "id": "mfNPoAf5hYTI",
        "outputId": "b432bb61-014d-471e-e60d-9f59f4db3466"
      },
      "execution_count": null,
      "outputs": [
        {
          "output_type": "stream",
          "name": "stdout",
          "text": [
            "Usman\n",
            "['ahmad', 'Saleem', 'Ali', 'Iqbal', 'Kashif']\n"
          ]
        }
      ]
    },
    {
      "cell_type": "markdown",
      "source": [
        "### Remove a specific or custom student by name"
      ],
      "metadata": {
        "id": "HxambH-uhlZI"
      }
    },
    {
      "cell_type": "code",
      "source": [
        "students.remove(\"Ali\")\n",
        "print(students)"
      ],
      "metadata": {
        "colab": {
          "base_uri": "https://localhost:8080/"
        },
        "id": "zMBCxFkihnn9",
        "outputId": "18c5b874-b60f-4e78-b7d8-bd266b379d78"
      },
      "execution_count": null,
      "outputs": [
        {
          "output_type": "stream",
          "name": "stdout",
          "text": [
            "['ahmad', 'Saleem', 'Iqbal', 'Kashif']\n"
          ]
        }
      ]
    },
    {
      "cell_type": "markdown",
      "source": [
        "### Finding the attributes and methods of list type"
      ],
      "metadata": {
        "id": "t46gdme9ijYB"
      }
    },
    {
      "cell_type": "markdown",
      "source": [
        "### shallow copy vs deep copy"
      ],
      "metadata": {
        "id": "zLIHsobFkcia"
      }
    },
    {
      "cell_type": "code",
      "source": [
        "# shallow copy\n",
        "a : list[str] = ['a','b','c']\n",
        "b = a # shallow copy\n",
        "a.append('d')\n",
        "print(\"a: \",a)\n",
        "print(\"b: \",b)\n",
        "print(id(a), id(b))"
      ],
      "metadata": {
        "colab": {
          "base_uri": "https://localhost:8080/"
        },
        "id": "0kLO63NdkhL7",
        "outputId": "51112fb4-06d1-487d-f2e1-701d2fb9fb9b"
      },
      "execution_count": null,
      "outputs": [
        {
          "output_type": "stream",
          "name": "stdout",
          "text": [
            "a:  ['a', 'b', 'c', 'd']\n",
            "b:  ['a', 'b', 'c', 'd']\n",
            "133503951166848 133503951166848\n"
          ]
        }
      ]
    },
    {
      "cell_type": "code",
      "source": [
        "# deep copy\n",
        "a : list[str] = ['a','b','c']\n",
        "b = a.copy() # Deep copy\n",
        "print(\"a: \",a)\n",
        "print(\"b: \",b)\n",
        "c = a[:] # another way of Deep copy\n",
        "\n",
        "a.append('d')\n",
        "print(\"a: \", a)\n",
        "print(\"b: \", b)\n",
        "print(\"c: \", c)\n",
        "print(id(a), id(b), id(c))"
      ],
      "metadata": {
        "colab": {
          "base_uri": "https://localhost:8080/"
        },
        "id": "txwdgB-FlHWf",
        "outputId": "0dd35d04-341a-4eff-b94f-cd602e531949"
      },
      "execution_count": null,
      "outputs": [
        {
          "output_type": "stream",
          "name": "stdout",
          "text": [
            "a:  ['a', 'b', 'c']\n",
            "b:  ['a', 'b', 'c']\n",
            "a:  ['a', 'b', 'c', 'd']\n",
            "b:  ['a', 'b', 'c']\n",
            "c:  ['a', 'b', 'c']\n",
            "133503943485312 133503035500416 133503892746176\n"
          ]
        }
      ]
    },
    {
      "cell_type": "markdown",
      "source": [
        "### extend()\n",
        "Supply the array to be extended"
      ],
      "metadata": {
        "id": "ncS5vw54m9cz"
      }
    },
    {
      "cell_type": "code",
      "source": [
        "arr1: list[int] = [1,2,3]\n",
        "a : list[int] = [4,5,6]\n",
        "a.extend(a)\n",
        "print(a)"
      ],
      "metadata": {
        "colab": {
          "base_uri": "https://localhost:8080/"
        },
        "id": "UA01xUuQnMIx",
        "outputId": "38d6d280-fea1-4bff-fad3-0c4a4228599a"
      },
      "execution_count": null,
      "outputs": [
        {
          "output_type": "stream",
          "name": "stdout",
          "text": [
            "[4, 5, 6, 4, 5, 6]\n"
          ]
        }
      ]
    },
    {
      "cell_type": "markdown",
      "source": [
        "### clear()"
      ],
      "metadata": {
        "id": "qbzJ8W7SnWzN"
      }
    },
    {
      "cell_type": "code",
      "source": [
        "a.clear()\n",
        "print(a)"
      ],
      "metadata": {
        "colab": {
          "base_uri": "https://localhost:8080/"
        },
        "id": "jDER99DendSz",
        "outputId": "59d6e4bc-0f77-483e-8aa2-731c50e880b4"
      },
      "execution_count": null,
      "outputs": [
        {
          "output_type": "stream",
          "name": "stdout",
          "text": [
            "[]\n"
          ]
        }
      ]
    },
    {
      "cell_type": "markdown",
      "source": [
        "### count() and list()"
      ],
      "metadata": {
        "id": "ZaAciugjnsOU"
      }
    },
    {
      "cell_type": "code",
      "source": [
        "characters : list[str] = list(\"abcdefghijklmnopqrstuvwxyzaaa\")\n",
        "characters.count('a')"
      ],
      "metadata": {
        "colab": {
          "base_uri": "https://localhost:8080/"
        },
        "id": "bvvseidnnvFg",
        "outputId": "304140b1-f5c4-4173-d3d9-c365573ae55c"
      },
      "execution_count": null,
      "outputs": [
        {
          "output_type": "execute_result",
          "data": {
            "text/plain": [
              "4"
            ]
          },
          "metadata": {},
          "execution_count": 26
        }
      ]
    },
    {
      "cell_type": "markdown",
      "source": [
        "### sort() and reverse()\n",
        "Purpose: Sorts the elements in the list in-place in descending order. It modifies the list to be sorted based on values.\n",
        "\n",
        "Purpose: Reverses the order of the elements in the list in-place without sorting them. It simply flips the list from end to start."
      ],
      "metadata": {
        "id": "1-x8ijLboMGr"
      }
    },
    {
      "cell_type": "code",
      "source": [
        "characters.sort()\n",
        "print(characters)\n",
        "\n",
        "characters.sort(reverse=True)\n",
        "print(characters)\n",
        "\n",
        "characters.reverse()\n",
        "print(characters)"
      ],
      "metadata": {
        "colab": {
          "base_uri": "https://localhost:8080/"
        },
        "id": "U7Ct5S3yoVLz",
        "outputId": "312cb359-e543-4128-c77e-8c9d305bdf3b"
      },
      "execution_count": null,
      "outputs": [
        {
          "output_type": "stream",
          "name": "stdout",
          "text": [
            "['a', 'a', 'a', 'a', 'b', 'c', 'd', 'e', 'f', 'g', 'h', 'i', 'j', 'k', 'l', 'm', 'n', 'o', 'p', 'q', 'r', 's', 't', 'u', 'v', 'w', 'x', 'y', 'z']\n",
            "['z', 'y', 'x', 'w', 'v', 'u', 't', 's', 'r', 'q', 'p', 'o', 'n', 'm', 'l', 'k', 'j', 'i', 'h', 'g', 'f', 'e', 'd', 'c', 'b', 'a', 'a', 'a', 'a']\n",
            "['a', 'a', 'a', 'a', 'b', 'c', 'd', 'e', 'f', 'g', 'h', 'i', 'j', 'k', 'l', 'm', 'n', 'o', 'p', 'q', 'r', 's', 't', 'u', 'v', 'w', 'x', 'y', 'z']\n"
          ]
        }
      ]
    },
    {
      "cell_type": "markdown",
      "source": [
        "### index()"
      ],
      "metadata": {
        "id": "Nut8kJ2kn0O4"
      }
    },
    {
      "cell_type": "code",
      "source": [
        "characters.index('a',3)"
      ],
      "metadata": {
        "colab": {
          "base_uri": "https://localhost:8080/"
        },
        "id": "jNWDVelAn2ZX",
        "outputId": "dc0f7247-ef04-4a7d-ce99-0d10f833495c"
      },
      "execution_count": null,
      "outputs": [
        {
          "output_type": "execute_result",
          "data": {
            "text/plain": [
              "26"
            ]
          },
          "metadata": {},
          "execution_count": 31
        }
      ]
    },
    {
      "cell_type": "markdown",
      "source": [
        "## Slicing"
      ],
      "metadata": {
        "id": "QLmlV2dFxXY4"
      }
    },
    {
      "cell_type": "code",
      "source": [
        "characters : list[str] = list(\"ABCDEFGHIJKLMNOPQRSTUVWXYZ\")\n",
        "print(characters)"
      ],
      "metadata": {
        "colab": {
          "base_uri": "https://localhost:8080/"
        },
        "id": "mlyy92R-xmf1",
        "outputId": "c9ce21a2-bcf7-41c6-91a2-e2a82cd39139"
      },
      "execution_count": null,
      "outputs": [
        {
          "output_type": "stream",
          "name": "stdout",
          "text": [
            "['A', 'B', 'C', 'D', 'E', 'F', 'G', 'H', 'I', 'J', 'K', 'L', 'M', 'N', 'O', 'P', 'Q', 'R', 'S', 'T', 'U', 'V', 'W', 'X', 'Y', 'Z']\n"
          ]
        }
      ]
    },
    {
      "cell_type": "code",
      "source": [
        "#                          0    1    2                                                                                                                 25\n",
        "characters : list[str] = ['A', 'B', 'C', 'D', 'E', 'F', 'G', 'H', 'I', 'J', 'K', 'L', 'M', 'N', 'O', 'P', 'Q', 'R', 'S', 'T', 'U', 'V', 'W', 'X', 'Y', 'Z']\n",
        "#                         -26   -25  -24                                                                                                                         -1\n",
        "\n",
        "# defualt slicing go from left to right\n",
        "print(len(characters))\n",
        "print(characters[0:6]) # 0= include : index 2-1 = 1\n",
        "print(characters[:4]) # not pass any number = all\n",
        "print(characters[-26:-24])# 0= include : index -24-1 = -25\n",
        "print(characters[0:2:1]) # 0= include : index 2-1 = 1\n",
        "print(characters[0:2:])\n",
        "print(characters[0:7:2])\n"
      ],
      "metadata": {
        "colab": {
          "base_uri": "https://localhost:8080/"
        },
        "id": "M8ZZJsF2x7Xn",
        "outputId": "d03e8ef3-5b91-4230-a599-1b498ee2c7ef"
      },
      "execution_count": null,
      "outputs": [
        {
          "output_type": "stream",
          "name": "stdout",
          "text": [
            "26\n",
            "['A', 'B', 'C', 'D', 'E', 'F']\n",
            "['A', 'B', 'C', 'D']\n",
            "['A', 'B']\n",
            "['A', 'B']\n",
            "['A', 'B']\n",
            "['A', 'C', 'E', 'G']\n"
          ]
        }
      ]
    },
    {
      "cell_type": "code",
      "source": [
        "print(characters)\n",
        "print(characters[::])"
      ],
      "metadata": {
        "colab": {
          "base_uri": "https://localhost:8080/"
        },
        "id": "7aUnHurryIdE",
        "outputId": "9e58f6a0-c602-40a2-bdfc-87abda5ec676"
      },
      "execution_count": null,
      "outputs": [
        {
          "output_type": "stream",
          "name": "stdout",
          "text": [
            "['A', 'B', 'C', 'D', 'E', 'F', 'G', 'H', 'I', 'J', 'K', 'L', 'M', 'N', 'O', 'P', 'Q', 'R', 'S', 'T', 'U', 'V', 'W', 'X', 'Y', 'Z']\n",
            "['A', 'B', 'C', 'D', 'E', 'F', 'G', 'H', 'I', 'J', 'K', 'L', 'M', 'N', 'O', 'P', 'Q', 'R', 'S', 'T', 'U', 'V', 'W', 'X', 'Y', 'Z']\n"
          ]
        }
      ]
    },
    {
      "cell_type": "code",
      "source": [
        "characters : list[str] = ['A', 'B', 'C', 'D', 'E', 'F', 'G', 'H']\n",
        "                        #  1    2    3    4    5    6    7    8\n",
        "print(characters[::-1])\n",
        "print(characters[4:2:-1]) #E,D,C\n",
        "print(characters[4:7])"
      ],
      "metadata": {
        "colab": {
          "base_uri": "https://localhost:8080/"
        },
        "id": "Ic_3SULQzf9c",
        "outputId": "26c9ae91-ef3f-44e8-91f3-3e6719b1ddae"
      },
      "execution_count": null,
      "outputs": [
        {
          "output_type": "stream",
          "name": "stdout",
          "text": [
            "['H', 'G', 'F', 'E', 'D', 'C', 'B', 'A']\n",
            "['E', 'D']\n",
            "['E', 'F', 'G']\n"
          ]
        }
      ]
    },
    {
      "cell_type": "code",
      "source": [
        "#                          0    1    2    3    4   5     6    7\n",
        "characters : list[str] = ['A', 'B', 'C', 'D', 'E', 'F', 'G', 'H']\n",
        "#                         -8    -7   -6  -5    -4   -3   -2   -1\n",
        "\n",
        "# iteration slicing ->\n",
        "# step -> positive\n",
        "# step <- negative\n",
        "print(characters[-2:-5:-1]) # ['G', 'F', 'E']\n",
        "print(characters[-5:-2]) # ['D', 'E', 'F']\n",
        "print(characters[::])\n",
        "print(characters[::-1])"
      ],
      "metadata": {
        "colab": {
          "base_uri": "https://localhost:8080/"
        },
        "id": "iKZ5UFnZzppD",
        "outputId": "a0faae1c-12da-4498-a727-28a5c2c53c97"
      },
      "execution_count": null,
      "outputs": [
        {
          "output_type": "stream",
          "name": "stdout",
          "text": [
            "['G', 'F', 'E']\n",
            "['D', 'E', 'F']\n",
            "['A', 'B', 'C', 'D', 'E', 'F', 'G', 'H']\n",
            "['H', 'G', 'F', 'E', 'D', 'C', 'B', 'A']\n"
          ]
        }
      ]
    },
    {
      "cell_type": "markdown",
      "source": [
        "## Extra"
      ],
      "metadata": {
        "id": "nbsWTzV5mv66"
      }
    },
    {
      "cell_type": "code",
      "source": [
        "print(help(print))"
      ],
      "metadata": {
        "colab": {
          "base_uri": "https://localhost:8080/"
        },
        "id": "uanfR1Xjl-ur",
        "outputId": "8be75c3e-0ddd-4a7f-b25d-577df44e6911"
      },
      "execution_count": null,
      "outputs": [
        {
          "output_type": "stream",
          "name": "stdout",
          "text": [
            "Help on built-in function print in module builtins:\n",
            "\n",
            "print(...)\n",
            "    print(value, ..., sep=' ', end='\\n', file=sys.stdout, flush=False)\n",
            "    \n",
            "    Prints the values to a stream, or to sys.stdout by default.\n",
            "    Optional keyword arguments:\n",
            "    file:  a file-like object (stream); defaults to the current sys.stdout.\n",
            "    sep:   string inserted between values, default a space.\n",
            "    end:   string appended after the last value, default a newline.\n",
            "    flush: whether to forcibly flush the stream.\n",
            "\n",
            "None\n"
          ]
        }
      ]
    }
  ]
}