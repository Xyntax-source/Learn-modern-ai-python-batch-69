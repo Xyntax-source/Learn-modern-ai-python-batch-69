{
 "cells": [
  {
   "cell_type": "markdown",
   "id": "69326cad",
   "metadata": {},
   "source": [
    "# Introduction to Tuples in Python\n",
    "\n",
    "## What is a Tuple?\n",
    "\n",
    "A tuple is an immutable, ordered collection of elements in Python. Tuples are similar to lists, but unlike lists, the elements of a tuple cannot be modified after it is created. Tuples are defined by enclosing elements in parentheses `()` and separating them with commas.\n",
    "\n",
    "### Key Features of Tuples:\n",
    "\n",
    "- **Immutable**: Once created, the elements of a tuple cannot be changed.\n",
    "- **Ordered**: Tuples maintain the order of elements.\n",
    "- **Heterogeneous**: Tuples can contain elements of different data types.\n",
    "- **Hashable**: Tuples can be used as keys in dictionaries if all their elements are hashable."
   ]
  },
  {
   "cell_type": "code",
   "execution_count": null,
   "id": "0c1f5705",
   "metadata": {},
   "outputs": [],
   "source": [
    "tuple_example = (1, \"apple\", 3.14)\n",
    "print(tuple_example)"
   ]
  },
  {
   "cell_type": "markdown",
   "id": "99d909d8",
   "metadata": {},
   "source": [
    "## Why Use Tuples?\n",
    "\n",
    "### The Problem: Need for Immutable Data\n",
    "\n",
    "In scenarios where you want to ensure the data remains constant throughout the program, lists might not be ideal due to their mutability. For instance, configuration settings or fixed data collections can benefit from immutability.\n",
    "\n",
    "### The Solution: Tuples for Immutable Collections\n",
    "\n",
    "Tuples provide a way to create collections that cannot be altered, ensuring data integrity and consistency."
   ]
  },
  {
   "cell_type": "markdown",
   "id": "6a1823f9",
   "metadata": {},
   "source": [
    "## How Tuples Work\n",
    "\n",
    "### Creating a Tuple\n",
    "\n",
    "Tuples can be created in several ways:"
   ]
  },
  {
   "cell_type": "markdown",
   "id": "842f2ea2",
   "metadata": {},
   "source": [
    "1. **Using Parentheses:**"
   ]
  },
  {
   "cell_type": "code",
   "execution_count": null,
   "id": "9e2dbb52",
   "metadata": {},
   "outputs": [],
   "source": [
    "fruits = (\"apple\", \"banana\", \"cherry\")\n",
    "print(fruits)"
   ]
  },
  {
   "cell_type": "markdown",
   "id": "035df994",
   "metadata": {},
   "source": [
    "2. **Without Parentheses:**"
   ]
  },
  {
   "cell_type": "code",
   "execution_count": null,
   "id": "59245575",
   "metadata": {},
   "outputs": [],
   "source": [
    "numbers = 1, 2, 3\n",
    "print(numbers)"
   ]
  },
  {
   "cell_type": "markdown",
   "id": "5b3847aa",
   "metadata": {},
   "source": [
    "3. **Using the `tuple` Constructor:**"
   ]
  },
  {
   "cell_type": "code",
   "execution_count": null,
   "id": "13c25087",
   "metadata": {},
   "outputs": [],
   "source": [
    "tuple_from_list = tuple([1, 2, 3])\n",
    "print(tuple_from_list)"
   ]
  },
  {
   "cell_type": "markdown",
   "id": "d552b09c",
   "metadata": {},
   "source": [
    "### Accessing Elements\n",
    "\n",
    "Tuples support indexing and slicing to access their elements:"
   ]
  },
  {
   "cell_type": "code",
   "execution_count": null,
   "id": "bae7ec2f",
   "metadata": {},
   "outputs": [],
   "source": [
    "fruits = (\"apple\", \"banana\", \"cherry\")\n",
    "print(fruits[0])  # Output: apple\n",
    "print(fruits[1:]) # Output: ('banana', 'cherry')"
   ]
  },
  {
   "cell_type": "markdown",
   "id": "b8d679e3",
   "metadata": {},
   "source": [
    "### Tuple Unpacking\n",
    "\n",
    "Tuples allow unpacking into individual variables:"
   ]
  },
  {
   "cell_type": "code",
   "execution_count": null,
   "id": "9186a8a6",
   "metadata": {},
   "outputs": [],
   "source": [
    "coordinates = (10, 20)\n",
    "x, y = coordinates\n",
    "print(x, y)  # Output: 10 20"
   ]
  },
  {
   "cell_type": "markdown",
   "id": "d4a64af5",
   "metadata": {},
   "source": [
    "### Nested Tuples\n",
    "\n",
    "Tuples can be nested:"
   ]
  },
  {
   "cell_type": "code",
   "execution_count": null,
   "id": "83d8426e",
   "metadata": {},
   "outputs": [],
   "source": [
    "nested_tuple = ((1, 2), (3, 4))\n",
    "print(nested_tuple[0])  # Output: (1, 2)"
   ]
  },
  {
   "cell_type": "markdown",
   "id": "2b409efe",
   "metadata": {},
   "source": [
    "## Common Tuple Operations\n",
    "\n",
    "### Concatenation\n",
    "\n",
    "Combine tuples using the `+` operator:"
   ]
  },
  {
   "cell_type": "code",
   "execution_count": null,
   "id": "a5ded04c",
   "metadata": {},
   "outputs": [],
   "source": [
    "tuple1 = (1, 2)\n",
    "tuple2 = (3, 4)\n",
    "result = tuple1 + tuple2\n",
    "print(result)  # Output: (1, 2, 3, 4)"
   ]
  },
  {
   "cell_type": "markdown",
   "id": "49425cd2",
   "metadata": {},
   "source": [
    "### Repetition\n",
    "\n",
    "Repeat tuples using the `*` operator:"
   ]
  },
  {
   "cell_type": "code",
   "execution_count": null,
   "id": "79fb6d1f",
   "metadata": {},
   "outputs": [],
   "source": [
    "repeated_tuple = (\"A\",) * 3\n",
    "print(repeated_tuple)  # Output: ('A', 'A', 'A')"
   ]
  },
  {
   "cell_type": "markdown",
   "id": "335df9d3",
   "metadata": {},
   "source": [
    "### Membership Test\n",
    "\n",
    "Check if an element exists in a tuple using the `in` keyword:"
   ]
  },
  {
   "cell_type": "code",
   "execution_count": null,
   "id": "43ac6c7a",
   "metadata": {},
   "outputs": [],
   "source": [
    "fruits = (\"apple\", \"banana\")\n",
    "print(\"apple\" in fruits)  # Output: True"
   ]
  },
  {
   "cell_type": "markdown",
   "id": "4ea1e0c6",
   "metadata": {},
   "source": [
    "### Tuple Methods\n",
    "\n",
    "Tuples have two built-in methods:"
   ]
  },
  {
   "cell_type": "markdown",
   "id": "7442727c",
   "metadata": {},
   "source": [
    "1. `.count()`: Counts occurrences of a value."
   ]
  },
  {
   "cell_type": "code",
   "execution_count": null,
   "id": "071763ea",
   "metadata": {},
   "outputs": [],
   "source": [
    "numbers = (1, 2, 2, 3)\n",
    "print(numbers.count(2))  # Output: 2"
   ]
  },
  {
   "cell_type": "markdown",
   "id": "534bdcb2",
   "metadata": {},
   "source": [
    "2. `.index()`: Returns the first index of a value."
   ]
  },
  {
   "cell_type": "code",
   "execution_count": null,
   "id": "b502a75e",
   "metadata": {},
   "outputs": [],
   "source": [
    "numbers = (1, 2, 3)\n",
    "print(numbers.index(2))  # Output: 1"
   ]
  },
  {
   "cell_type": "markdown",
   "id": "5b77f7a5",
   "metadata": {},
   "source": [
    "## Applications of Tuples\n",
    "\n",
    "### Using Tuples as Dictionary Keys\n",
    "\n",
    "Since tuples are immutable, they can be used as keys in dictionaries:"
   ]
  },
  {
   "cell_type": "code",
   "execution_count": null,
   "id": "3ed7b1f2",
   "metadata": {},
   "outputs": [],
   "source": [
    "locations = { (10, 20): \"Park\", (30, 40): \"Mall\" }\n",
    "print(locations[(10, 20)])  # Output: Park"
   ]
  },
  {
   "cell_type": "markdown",
   "id": "24ee5d25",
   "metadata": {},
   "source": [
    "### Returning Multiple Values from Functions\n",
    "\n",
    "Tuples are often used to return multiple values:"
   ]
  },
  {
   "cell_type": "code",
   "execution_count": null,
   "id": "1effb047",
   "metadata": {},
   "outputs": [],
   "source": [
    "def min_max(numbers):\n",
    "    return min(numbers), max(numbers)\n",
    "\n",
    "result = min_max([1, 2, 3, 4])\n",
    "print(result)  # Output: (1, 4)"
   ]
  },
  {
   "cell_type": "markdown",
   "id": "8b8c8bef",
   "metadata": {},
   "source": [
    "### Storing Fixed Data\n",
    "\n",
    "Tuples are ideal for storing data that should not change:"
   ]
  },
  {
   "cell_type": "code",
   "execution_count": null,
   "id": "0f5d9d5e",
   "metadata": {},
   "outputs": [],
   "source": [
    "weekdays = (\"Monday\", \"Tuesday\", \"Wednesday\", \"Thursday\", \"Friday\")\n",
    "print(weekdays)"
   ]
  },
  {
   "cell_type": "markdown",
   "id": "4fa43ff4",
   "metadata": {},
   "source": [
    "## Projects\n",
    "\n",
    "### Project 1: Tuple Operations\n",
    "\n",
    "Write a program that:\n",
    "\n",
    "- Creates a tuple of numbers.\n",
    "- Finds the sum and product of all elements."
   ]
  },
  {
   "cell_type": "markdown",
   "id": "e9be6d8a",
   "metadata": {},
   "source": [
    "### Project 2: Contact Book\n",
    "\n",
    "Create a dictionary where keys are tuples (name, phone number) and values are addresses."
   ]
  },
  {
   "cell_type": "markdown",
   "id": "3f9cf7dd",
   "metadata": {},
   "source": [
    "### Project 3: Coordinates Validator\n",
    "\n",
    "Write a program that checks if a set of coordinates fall within a predefined region, using tuples for storage."
   ]
  },
  {
   "cell_type": "markdown",
   "id": "ec2d1c4a",
   "metadata": {},
   "source": [
    "### Project 4: Employee Records\n",
    "\n",
    "Use tuples to store employee data (name, ID, department) and create functions to retrieve specific details."
   ]
  },
  {
   "cell_type": "markdown",
   "id": "8ebd4ea6",
   "metadata": {},
   "source": [
    "## Conclusion\n",
    "\n",
    "Tuples are a fundamental data structure in Python, offering immutability, simplicity, and versatility. Whether you're using them for data integrity, as keys in dictionaries, or for returning multiple values, tuples provide a robust solution for various programming scenarios."
   ]
  }
 ],
 "metadata": {},
 "nbformat": 4,
 "nbformat_minor": 5
}
